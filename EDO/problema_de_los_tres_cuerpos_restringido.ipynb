{
  "nbformat": 4,
  "nbformat_minor": 0,
  "metadata": {
    "colab": {
      "name": "Implementacion_ProyectoFinal_JesusBertaniRamirez.ipynb",
      "provenance": [],
      "collapsed_sections": []
    },
    "kernelspec": {
      "name": "python3",
      "display_name": "Python 3"
    },
    "language_info": {
      "name": "python"
    }
  },
  "cells": [
    {
      "cell_type": "markdown",
      "source": [
        "Este código permite simmular el movimiento de un cuerpo de masa despreciable si está influenciado por Júpiter y el Sol.\n",
        "\n",
        "En casillas importantes explicaremos con texto lo que se realizó, en otro caso los comentarios son suficientes para entender."
      ],
      "metadata": {
        "id": "dxiC_-bQyxjh"
      }
    },
    {
      "cell_type": "code",
      "execution_count": 276,
      "metadata": {
        "id": "7ttjkJLj1EO9"
      },
      "outputs": [],
      "source": [
        "#Librerías necesarias\n",
        "import numpy as np\n",
        "import matplotlib.pyplot as plt\n",
        "from matplotlib.pyplot import figure\n",
        "from scipy.integrate import odeint\n",
        "\n",
        "#Para crear un video de la trayectoria coon moviepy\n",
        "#La documentación se encuentra en https://zulko.github.io/moviepy/getting_started/videoclips.html\n",
        "from moviepy.editor import VideoClip\n",
        "from moviepy.video.io.bindings import mplfig_to_npimage\n",
        "import matplotlib.pyplot as plt\n",
        "import gizeh\n",
        "from matplotlib.pyplot import figure"
      ]
    },
    {
      "cell_type": "code",
      "source": [
        "#Datos relevantes del Sistema de Júpiter y el Sol\n",
        "#Estos se obtuvieron de http://www.sc.ehu.es/sbweb/fisica3/celeste/jupiter/jupiter.html\n",
        "\n",
        "#Sol\n",
        "m1 = 1.989e30 #Masa en kg\n",
        "\n",
        "#Júpiter\n",
        "m2 = 1.898e27 #Masa en Kg\n",
        "L = 7.7835e8 #Semieje mayor en km\n",
        "e = 0.048 #Excentricidad\n",
        "\n",
        "#Constante Gravitacional\n",
        "G = 6.673e-11 \n"
      ],
      "metadata": {
        "id": "7sPjP2TB2TFQ"
      },
      "execution_count": 277,
      "outputs": []
    },
    {
      "cell_type": "markdown",
      "source": [
        "El parámetro de masa recordemos que se define como\n",
        "$$\\mu=\\frac{m_2}{m_1+m_2}.$$\n",
        "\n",
        "Lo calcularemos para nuestros planetas pero con las unidades normalizadas, es decir, para nuevas $m_1$ y $m_2$ obtenidas de las originales tales que \n",
        "$$G(m_1+m_2) = 1$$"
      ],
      "metadata": {
        "id": "aRSbhBUQzvPM"
      }
    },
    {
      "cell_type": "code",
      "source": [
        "#Reparametrización\n",
        "M = 1/(G*(m1+m2))\n",
        "m1 = m1/M\n",
        "m2 = m2/M\n",
        "\n",
        "#Cálculo del parámetro de masa \n",
        "mu = m2/(m1+m2)"
      ],
      "metadata": {
        "id": "wDDIGXW6NrY5"
      },
      "execution_count": 278,
      "outputs": []
    },
    {
      "cell_type": "markdown",
      "source": [
        "Calcularemos ahora la trayectoria de Júpiter y el Sol. Recordemos que asumimos que el Sol se encuentra en el origen en todo momento y la posición de Júpiter está dictada por la fórmula\n",
        "$$r(\\theta) = \\frac{1-ɛ^2}{1+ɛ\\cos(\\theta)},$$\n",
        "pues ya hizimos la reparametrización de las unidades. Recordemos que entonces todas nuestras velocidades deben ser cambios respecto a $\\theta$ y no el tiempo."
      ],
      "metadata": {
        "id": "kkW0u_8l0Thq"
      }
    },
    {
      "cell_type": "code",
      "source": [
        "### Obtenemos los radios y la posicion de los cuerpos principales\n",
        "\n",
        "#La cantidad de pasos\n",
        "n = 10000\n",
        "\n",
        "#El total de la trayectoria que Júpiter relizará.\n",
        "#Utilice este para obtener una fracción o múltiplo de la trayectoria de Júpiter\n",
        "#Recuerde que 2pi implica una trayectoria completa\n",
        "trayectoria = 2*np.pi\n",
        "\n",
        "#El cambio de theta\n",
        "theta = trayectoria/n\n",
        "\n",
        "#Vector para guardar las distancias del Sol a Júpiter\n",
        "r = np.zeros(n)\n",
        "\n",
        "#Vector para guardar la posición del Sol\n",
        "coorP1 = np.zeros((n,2))\n",
        "\n",
        "#Vector para guardar la posición de Júpiter\n",
        "coorP2 = np.zeros((n,2))\n",
        "\n",
        "#Cálculo de las posiciones de ambos cuerpos celestes\n",
        "for i in range(0,n):\n",
        "  r[i] = (1-e**2)/(1+e*np.cos(i*theta))\n",
        "  coorP1[i][0] = 0\n",
        "  coorP1[i][1] = 0\n",
        "\n",
        "  coorP2[i][0] = r[i]*np.cos(theta*i)\n",
        "  coorP2[i][1] = r[i]*np.sin(theta*i)"
      ],
      "metadata": {
        "id": "EUW2rNLd7vyw"
      },
      "execution_count": 279,
      "outputs": []
    },
    {
      "cell_type": "code",
      "source": [
        "#Código para imprimir la trayectorias obtenidas\n",
        "\n",
        "figure(figsize=(5,5), dpi = 100)\n",
        "plt.plot(coorP1[:,0], coorP1[:,1])\n",
        "plt.plot(coorP2[:,0], coorP2[:,1])\n",
        "\n",
        "plt.xlim(-1.2, 1.2)\n",
        "plt.ylim(-1.2, 1.2)\n",
        "plt.gca().set_aspect('equal', adjustable='box')\n",
        "plt.scatter(0,0)\n",
        "\n",
        "plt.show()"
      ],
      "metadata": {
        "colab": {
          "base_uri": "https://localhost:8080/",
          "height": 438
        },
        "id": "9sm5OpiRaKet",
        "outputId": "20b07ff0-22af-4fb3-d915-12e9f7b6918e"
      },
      "execution_count": 280,
      "outputs": [
        {
          "output_type": "display_data",
          "data": {
            "text/plain": [
              "<Figure size 500x500 with 1 Axes>"
            ],
            "image/png": "[encoded data removed]"
          },
          "metadata": {
            "needs_background": "light"
          }
        }
      ]
    },
    {
      "cell_type": "markdown",
      "source": [
        "A continuación definimos las funciones necesarias para que ODEint pueda solucionar nuestro sistema. Este resolverá un sistema de la forma\n",
        "$$S(x,y,v_x,v_y).$$\n",
        "\n",
        "Usando la fórmula obtenida en las notas, ocurre que el cambio de $v_x$ respecto a $\\theta$ se puede calcular como sigue:\n",
        "$$\\frac{dv_x}{d\\theta} = \\frac{r^4}{1-ɛ^2}\\left(\\frac{\\mu-1}{\\|(x,y)\\|^3} + \\frac{\\mu}{\\|(x,y)-(x_2,y_2)\\|}(x_2-x)+\\frac{2(1-ɛ^2)^2ɛ\\sin(\\theta)}{r^5(1+ɛ\\cos(\\theta))^2}v_x\\right),$$\n",
        "\n",
        "donde $x_2 = r\\cos(\\theta)$ y $y_2 = r\\sin(\\theta)$. De manera análoga obtenemos \n",
        "\n",
        "$$\\frac{dv_y}{d\\theta} = \\frac{r^4}{1-ɛ^2}\\left(\\frac{\\mu-1}{\\|(x,y)\\|^3} + \\frac{\\mu}{\\|(x,y)-(y_2,y)\\|}(x_2-x)+\\frac{2(1-ɛ^2)^2ɛ\\sin(\\theta)}{r^5(1+ɛ\\cos(\\theta))^2}v_y\\right).$$"
      ],
      "metadata": {
        "id": "hdS-2GR1016U"
      }
    },
    {
      "cell_type": "code",
      "source": [
        "#Esta función es la que pasaremos a odeint\n",
        "\n",
        "def dSdf(S,theta):\n",
        "  x, y, vx, vy = S\n",
        "\n",
        "  #La distancia entre los dos planetas mayores\n",
        "  r = (1-e**2)/(1+e*np.cos(theta))\n",
        "\n",
        "\n",
        "  #La posicion de los planetas\n",
        "  x1 = 0\n",
        "  y1 = 0\n",
        "  x2 = r*np.cos(theta)\n",
        "  y2 = r*np.sin(theta)\n",
        "\n",
        "  #La distancia al tercer objeto\n",
        "  r1 = np.sqrt(x**2 + y**2)\n",
        "  r2 = np.sqrt((x-x2)**2 + (y-y2)**2)\n",
        "\n",
        "  #Para facilidad de escritura\n",
        "  r1 = r1**3\n",
        "  r2 = r2**3\n",
        "  h = np.sqrt(1-e**2)\n",
        "\n",
        "  #Calculamos la aceleracion\n",
        "  ax = (mu-1)*x/r1 + mu*(x2-x)/r2 + 2*((1-e**2)**2)*e*np.sin(theta)*vx/((1+e*np.cos(theta))**2)\n",
        "  ay = (mu-1)*y/r1 + mu*(x2-y)/r2 + 2*((1-e**2)**2)*e*np.sin(theta)*vx/((r**5)*(1+e*np.cos(theta))**2)\n",
        "\n",
        "  ax = (r**4)*ax/(1 - e**2)\n",
        "  ay = (r**4)*ay/(1 - e**2)\n",
        "\n",
        "  return [\n",
        "         vx,\n",
        "         vy,\n",
        "         ax,\n",
        "         ay\n",
        "  ]\n",
        "  "
      ],
      "metadata": {
        "id": "8u9djQZzJxJ3"
      },
      "execution_count": 281,
      "outputs": []
    },
    {
      "cell_type": "code",
      "source": [
        "#Los cambios en theta que usaremos para calcular el movimiento del tercer cuerpo\n",
        "#Este vector se lo pasamos a ODEint\n",
        "\n",
        "#Una n mayor dará resultados más precisos \n",
        "n = 10000\n",
        "\n",
        "\n",
        "\n",
        "#Usamos la variable trayectoria pues ese indica el total de vueltas al rededor\n",
        "#del Sol que Júpiter realiza y nos interesa saber como se mueve el tercer cuerpo\n",
        "#en ese mismo periodo\n",
        "angles = np.linspace(0,trayectoria, n)"
      ],
      "metadata": {
        "id": "Cy8TIpDvVWoR"
      },
      "execution_count": 282,
      "outputs": []
    },
    {
      "cell_type": "markdown",
      "source": [
        "Aquí se pone una casilla para los datos iniciales del tercer cuerpo. Modifque estos datos para obtener diferentes resultados. Aquí, \"x0\" es la posición inicial en el eje horizontal, \"y_0\", en el vertical y \"vx0\" y \"vy0\" las velocidades iniciales en sus ejes respectivos.\n",
        "\n",
        "Recuerde que las unidades están reparamentrizadas por lo que $x_0=1$ y $y_0=0$ pondrían al tercer cuerpo en la misma posición que Júpiter. "
      ],
      "metadata": {
        "id": "g0maLp6L3ndZ"
      }
    },
    {
      "cell_type": "code",
      "source": [
        "x0 = 0.5\n",
        "y0 = 0\n",
        "vx0 = 0\n",
        "vy0 = 1"
      ],
      "metadata": {
        "id": "05OMZ-rrW4wG"
      },
      "execution_count": 283,
      "outputs": []
    },
    {
      "cell_type": "code",
      "source": [
        "#Generamos el vector con las posiciones del tercer cuerpo\n",
        "sol = odeint(dSdf, y0 = [x0, y0, vx0, vy0], t=angles)"
      ],
      "metadata": {
        "id": "UBPn515ZWC5B"
      },
      "execution_count": 284,
      "outputs": []
    },
    {
      "cell_type": "code",
      "source": [
        "#Graficamos las trayectorias de los tres cuerpos después del total\n",
        "#de una vuelta alrededor del Sol determinada por \"trayectoria\"\n",
        "\n",
        "m = 10000\n",
        "tercerX = np.zeros(m)\n",
        "tercerY = np.zeros(m)\n",
        "coorP2X = np.zeros(m)\n",
        "coorP2Y = np.zeros(m)\n",
        "\n",
        "for i in range(m):\n",
        "  tercerX[i] = sol[i][0]\n",
        "  tercerY[i] = sol[i][1]\n",
        "  coorP2X[i] = coorP2[:,0][i]\n",
        "  coorP2Y[i] = coorP2[:,1][i]\n",
        "\n",
        "\n",
        "#Dibujamos la elipse\n",
        "figure(figsize=(5,5), dpi = 100)\n",
        "plt.plot(coorP1[:,0], coorP1[:,1])\n",
        "plt.plot(coorP2X, coorP2Y, c = \"orange\")\n",
        "plt.plot(tercerX, tercerY, c = \"blue\")\n",
        "plt.scatter(0,0, c = \"yellow\", s = 20)\n",
        "\n",
        "#Valores recomendados\n",
        "plt.xlim(-1.5, 1.5)\n",
        "plt.ylim(-1.5, 1.5)\n",
        "plt.gca().set_aspect('equal', adjustable='box')\n",
        "\n",
        "plt.show()"
      ],
      "metadata": {
        "colab": {
          "base_uri": "https://localhost:8080/",
          "height": 443
        },
        "id": "Tc0g75IiY77S",
        "outputId": "4ea5253c-481e-4ca4-898b-a0a2dac383b3"
      },
      "execution_count": 285,
      "outputs": [
        {
          "output_type": "display_data",
          "data": {
            "text/plain": [
              "<Figure size 500x500 with 1 Axes>"
            ],
            "image/png": "[encoded data removed]"
          },
          "metadata": {
            "needs_background": "light"
          }
        }
      ]
    },
    {
      "cell_type": "code",
      "source": [
        "#Hacemos un video de la trayectoria\n",
        "x1 = np.zeros(m)\n",
        "x2 = coorP2X\n",
        "x3 = tercerX\n",
        "\n",
        "y1 = np.zeros(m)\n",
        "y2 = coorP2Y\n",
        "y3 = tercerY\n",
        "\n",
        "x = np.linspace(-2, 2, 200)\n",
        "\n",
        "duration = 22.3\n",
        "\n",
        "fig, ax = plt.subplots()\n",
        "#Cantidad recomendada, modificar según sea la necesidad\n",
        "fig.set_size_inches(10,10)\n",
        "fig.set_dpi(100)\n",
        "\n",
        "def make_frame(t):\n",
        "    ax.clear()\n",
        "    ax.scatter(x3[int(t*duration*20)], y3[int(t*duration*20)], c = \"blue\", s = 25)\n",
        "    ax.scatter(x2[int(t*duration*20)], y2[int(t*duration*20)], c = \"orange\",s = 100)\n",
        "    ax.scatter(x1[int(t*duration*20)], y1[int(t*duration*20)], c = \"yellow\", s = 300)\n",
        "    #Estos son valores sugeridos. Cambiar dependiendo las trayectorias obtenidas\n",
        "    ax.set_ylim(-1.5, 1.5)\n",
        "    ax.set_xlim(-1.5,1.5)\n",
        "    return mplfig_to_npimage(fig)\n",
        "\n",
        "\n",
        "clip = VideoClip(make_frame, duration=duration) # for custom animations (see below)\n",
        "clip.write_videofile(\"my_video_file.mp4\", fps = 20)\n",
        "\n",
        "#Si se quiere como Gif\n",
        "\n",
        "#animation = VideoClip(make_frame, duration=duration)\n",
        "#animation.write_gif('matplotlib.gif', fps=20)\n"
      ],
      "metadata": {
        "colab": {
          "base_uri": "https://localhost:8080/",
          "height": 925
        },
        "id": "cMSkk_I0Mgw0",
        "outputId": "1506691c-83e2-4477-868c-2d2795c867f3"
      },
      "execution_count": 286,
      "outputs": [
        {
          "output_type": "stream",
          "name": "stdout",
          "text": [
            "[MoviePy] >>>> Building video my_video_file.mp4\n",
            "[MoviePy] Writing video my_video_file.mp4\n"
          ]
        },
        {
          "output_type": "stream",
          "name": "stderr",
          "text": [
            "100%|█████████▉| 446/447 [00:49<00:00,  9.01it/s]\n"
          ]
        },
        {
          "output_type": "stream",
          "name": "stdout",
          "text": [
            "[MoviePy] Done.\n",
            "[MoviePy] >>>> Video ready: my_video_file.mp4 \n",
            "\n"
          ]
        },
        {
          "output_type": "display_data",
          "data": {
            "text/plain": [
              "<Figure size 1000x1000 with 1 Axes>"
            ],
            "image/png": "[encoded data removed]"
          },
          "metadata": {
            "needs_background": "light"
          }
        }
      ]
    }
  ]
}